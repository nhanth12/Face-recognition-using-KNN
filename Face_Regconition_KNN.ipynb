{
  "nbformat": 4,
  "nbformat_minor": 0,
  "metadata": {
    "colab": {
      "name": "Face Regconition - KNN.ipynb",
      "version": "0.3.2",
      "provenance": [],
      "collapsed_sections": [],
      "include_colab_link": true
    },
    "kernelspec": {
      "name": "python3",
      "display_name": "Python 3"
    },
    "accelerator": "GPU"
  },
  "cells": [
    {
      "cell_type": "markdown",
      "metadata": {
        "id": "view-in-github",
        "colab_type": "text"
      },
      "source": [
        "<a href=\"https://colab.research.google.com/github/nhanth12/Face-recognition-using-KNN/blob/master/Face_Regconition_KNN.ipynb\" target=\"_parent\"><img src=\"https://colab.research.google.com/assets/colab-badge.svg\" alt=\"Open In Colab\"/></a>"
      ]
    },
    {
      "cell_type": "markdown",
      "metadata": {
        "id": "uN5xxKKEPHOT",
        "colab_type": "text"
      },
      "source": [
        "# **map dường dẫn vào google drive**\n",
        "\n",
        "có thể download all project tại link sau: https://drive.google.com/open?id=1n8CZsiFlEM59lB2bjqAEKhtYCtzejPzD\n"
      ]
    },
    {
      "cell_type": "code",
      "metadata": {
        "id": "b9tj7FwhPMi4",
        "colab_type": "code",
        "colab": {}
      },
      "source": [
        "#map dường dẫn vào google drive\n",
        "#có thể download all project tại link sau:\n",
        "#https://drive.google.com/open?id=1n8CZsiFlEM59lB2bjqAEKhtYCtzejPzD\n",
        "# Do not run this if you dont use Google Colab\n",
        "from google.colab import drive\n",
        "drive.mount('/content/drive')"
      ],
      "execution_count": 0,
      "outputs": []
    },
    {
      "cell_type": "code",
      "metadata": {
        "id": "C6-lv4WJE-T5",
        "colab_type": "code",
        "colab": {}
      },
      "source": [
        "#map dường dẫn vào thư mục trên google drive\n",
        "# Do not run this if you dont use Google Colab\n",
        "import os\n",
        "os.chdir(\"/content/drive/My Drive/Colab Notebooks/Face-recognition-using-KNN\")"
      ],
      "execution_count": 0,
      "outputs": []
    },
    {
      "cell_type": "code",
      "metadata": {
        "id": "ET8BEf9GDm6h",
        "colab_type": "code",
        "colab": {}
      },
      "source": [
        "#install thư viện mtcnn\n",
        "# Install packages\n",
        "!pip3 install mtcnn pytesseract face_recognition "
      ],
      "execution_count": 0,
      "outputs": []
    },
    {
      "cell_type": "code",
      "metadata": {
        "id": "tG_gcASu2hY8",
        "colab_type": "code",
        "colab": {}
      },
      "source": [
        "#import các thư mục\n",
        "\"\"\"\n",
        "RUN FROM HERE\n",
        "\"\"\"\n",
        "import math\n",
        "from sklearn import neighbors\n",
        "import os\n",
        "import os.path\n",
        "import pickle\n",
        "from PIL import Image, ImageDraw\n",
        "import cv2\n",
        "from pathlib import Path\n",
        "import face_recognition\n",
        "from face_recognition.face_recognition_cli import image_files_in_folder\n",
        "\n",
        "ALLOWED_EXTENSIONS = {'png', 'jpg', 'jpeg'}"
      ],
      "execution_count": 0,
      "outputs": []
    },
    {
      "cell_type": "markdown",
      "metadata": {
        "id": "w4BhA8oXO0Gx",
        "colab_type": "text"
      },
      "source": [
        "# **Hàm training model theo thuật toán KNN**"
      ]
    },
    {
      "cell_type": "code",
      "metadata": {
        "id": "TOXhy1Du81tm",
        "colab_type": "code",
        "colab": {}
      },
      "source": [
        "#Train \n",
        "\n",
        "def train(train_dir, model_save_path=None, n_neighbors=None, knn_algo='ball_tree', verbose=False):\n",
        "    \"\"\"\n",
        "    Trains a k-nearest neighbors classifier for face recognition.\n",
        "    :param train_dir: directory that contains a sub-directory for each known person, with its name.\n",
        "     (View in source code to see train_dir example tree structure)\n",
        "     Structure:\n",
        "        <train_dir>/\n",
        "        ├── <person1>/\n",
        "        │   ├── <somename1>.jpeg\n",
        "        │   ├── <somename2>.jpeg\n",
        "        │   ├── ...\n",
        "        ├── <person2>/\n",
        "        │   ├── <somename1>.jpeg\n",
        "        │   └── <somename2>.jpeg\n",
        "        └── ...\n",
        "    :param model_save_path: (optional) path to save model on disk\n",
        "    :param n_neighbors: (optional) number of neighbors to weigh in classification. Chosen automatically if not specified\n",
        "    :param knn_algo: (optional) underlying data structure to support knn.default is ball_tree\n",
        "    :param verbose: verbosity of training\n",
        "    :return: returns knn classifier that was trained on the given data.\n",
        "    \"\"\"\n",
        "    X = []\n",
        "    y = []\n",
        "    # Loop through each person in the training set\n",
        "    for class_dir in os.listdir(train_dir):\n",
        "        if not os.path.isdir(os.path.join(train_dir, class_dir)):\n",
        "            continue\n",
        "\n",
        "        # Loop through each training image for the current person\n",
        "        for img_path in image_files_in_folder(os.path.join(train_dir, class_dir)):\n",
        "            image = face_recognition.load_image_file(img_path)\n",
        "            face_bounding_boxes = face_recognition.face_locations(image)\n",
        "\n",
        "            if len(face_bounding_boxes) != 1:\n",
        "                # If there are no people (or too many people) in a training image, skip the image.\n",
        "                if verbose:\n",
        "                    print(\"Image {} not suitable for training: {}\".format(img_path, \"Didn't find a face\" if len(face_bounding_boxes) < 1 else \"Found more than one face\"))\n",
        "            else:\n",
        "                # Add face encoding for current image to the training set\n",
        "                X.append(face_recognition.face_encodings(image, known_face_locations=face_bounding_boxes)[0])\n",
        "                y.append(class_dir)\n",
        "\n",
        "    # Determine how many neighbors to use for weighting in the KNN classifier\n",
        "    if n_neighbors is None:\n",
        "        n_neighbors = int(round(math.sqrt(len(X))))\n",
        "        if verbose:\n",
        "            print(\"Chose n_neighbors automatically:\", n_neighbors)\n",
        "\n",
        "    # Create and train the KNN classifier\n",
        "    knn_clf = neighbors.KNeighborsClassifier(n_neighbors=n_neighbors, algorithm=knn_algo, weights='distance')\n",
        "    knn_clf.fit(X, y)\n",
        "\n",
        "    # Save the trained KNN classifier\n",
        "    if model_save_path is not None:\n",
        "        with open(model_save_path, 'wb') as f:\n",
        "            pickle.dump(knn_clf, f)\n",
        "\n",
        "    return knn_clf\n",
        "\n"
      ],
      "execution_count": 0,
      "outputs": []
    },
    {
      "cell_type": "markdown",
      "metadata": {
        "id": "BKST7H6pOt1p",
        "colab_type": "text"
      },
      "source": [
        "# **Hàm nhận dạng**"
      ]
    },
    {
      "cell_type": "code",
      "metadata": {
        "id": "MHbKWvdMK6qw",
        "colab_type": "code",
        "colab": {}
      },
      "source": [
        "#hàm nhận dạng\n",
        "def predict(X_img_path, knn_clf=None, model_path=None, distance_threshold=0.75):\n",
        "    \"\"\"\n",
        "    Recognizes faces in given image using a trained KNN classifier\n",
        "    :param X_img_path: path to image to be recognized\n",
        "    :param knn_clf: (optional) a knn classifier object. if not specified, model_save_path must be specified.\n",
        "    :param model_path: (optional) path to a pickled knn classifier. if not specified, model_save_path must be knn_clf.\n",
        "    :param distance_threshold: (optional) distance threshold for face classification. the larger it is, the more chance\n",
        "           of mis-classifying an unknown person as a known one.\n",
        "    :return: a list of names and face locations for the recognized faces in the image: [(name, bounding box), ...].\n",
        "        For faces of unrecognized persons, the name 'unknown' will be returned.\n",
        "    \"\"\"\n",
        "    if not os.path.isfile(X_img_path) or os.path.splitext(X_img_path)[1][1:] not in ALLOWED_EXTENSIONS:\n",
        "        raise Exception(\"Invalid image path: {}\".format(X_img_path))\n",
        "\n",
        "    if knn_clf is None and model_path is None:\n",
        "        raise Exception(\"Must supply knn classifier either thourgh knn_clf or model_path\")\n",
        "\n",
        "    # Load a trained KNN model (if one was passed in)\n",
        "    if knn_clf is None:\n",
        "        with open(model_path, 'rb') as f:\n",
        "            knn_clf = pickle.load(f)\n",
        "\n",
        "    # Load image file and find face locations\n",
        "    X_img = face_recognition.load_image_file(X_img_path)\n",
        "    X_face_locations = face_recognition.face_locations(X_img)\n",
        "\n",
        "    # If no faces are found in the image, return an empty result.\n",
        "    if len(X_face_locations) == 0:\n",
        "        return []\n",
        "\n",
        "    # Find encodings for faces in the test iamge\n",
        "    faces_encodings = face_recognition.face_encodings(X_img, known_face_locations=X_face_locations)\n",
        "\n",
        "    # Use the KNN model to find the best matches for the test face\n",
        "    closest_distances = knn_clf.kneighbors(faces_encodings, n_neighbors=1)\n",
        "    are_matches = [closest_distances[0][i][0] <= distance_threshold for i in range(len(X_face_locations))]\n",
        "\n",
        "    # Predict classes and remove classifications that aren't within the threshold\n",
        "    return [(pred, loc) if rec else (\"unknown\", loc) for pred, loc, rec in zip(knn_clf.predict(faces_encodings), X_face_locations, are_matches)]\n"
      ],
      "execution_count": 0,
      "outputs": []
    },
    {
      "cell_type": "markdown",
      "metadata": {
        "id": "gBNlw5uROiCB",
        "colab_type": "text"
      },
      "source": [
        "# **Hàm hiển thị kết quả sau khi nhận dạng**"
      ]
    },
    {
      "cell_type": "code",
      "metadata": {
        "id": "NofBTs8wK-gu",
        "colab_type": "code",
        "colab": {}
      },
      "source": [
        "\n",
        "#hàm hiển thị kết quả sau khi nhận dạng\n",
        "def show_prediction_labels_on_image(img_path, predictions):\n",
        "    \"\"\"\n",
        "    Shows the face recognition results visually.\n",
        "    :param img_path: path to image to be recognized\n",
        "    :param predictions: results of the predict function\n",
        "    :return:\n",
        "    \"\"\"\n",
        "    pil_image = Image.open(img_path).convert(\"RGB\")\n",
        "    draw = ImageDraw.Draw(pil_image)\n",
        "\n",
        "    for name, (top, right, bottom, left) in predictions:\n",
        "        # Draw a box around the face using the Pillow module\n",
        "        draw.rectangle(((left, top), (right, bottom)), outline=(0, 0, 255))\n",
        "\n",
        "        # There's a bug in Pillow where it blows up with non-UTF-8 text\n",
        "        # when using the default bitmap font\n",
        "        name = name.encode(\"UTF-8\")\n",
        "\n",
        "        # Draw a label with a name below the face\n",
        "        text_width, text_height = draw.textsize(name)\n",
        "      \n",
        "        draw.rectangle(((left, bottom - text_height - 10), (right, bottom)), fill=(0, 0, 255), outline=(0, 0, 255))\n",
        "        draw.text((left + 6, bottom - text_height - 5), name, fill=(255, 255, 255, 255))\n",
        "\n",
        "    # Remove the drawing library from memory as per the Pillow docs\n",
        "    del draw\n",
        "\n",
        "    # Display the resulting image\n",
        "    pil_image.show()\n",
        "    pil_image.save(\"Output/\" + Path(img_path).name)"
      ],
      "execution_count": 0,
      "outputs": []
    },
    {
      "cell_type": "markdown",
      "metadata": {
        "id": "NAZfAXoXMyO_",
        "colab_type": "text"
      },
      "source": [
        "# **Hàm thực thi gọi thực hiện việc training và nhận dạng các ảnh**\n",
        "Bưới 1: Training\n",
        "*   Quá trình training sẽ lấy các ảnh từ thư mục  Known-people chạy qua thuật toán KNN \n",
        "*   Sau khi chạy xong tạo ra file model tên là trained_knn_model.clf với tham số n_neighbors=2\n",
        "\n",
        "Bước 2: Nhận dạng\n",
        "*   sử dụng model đã được học ở bước 1 để nhận dạng cho các hình ảnh ở thư mục Unknown-people\n",
        "*   In các kết quả đã được nhận dạng ra\n",
        "*   Ghi file đã nhận dạng vào thư mục\n",
        "\n",
        "\n",
        "\n",
        "\n"
      ]
    },
    {
      "cell_type": "code",
      "metadata": {
        "id": "qhYxxNspLCdN",
        "colab_type": "code",
        "colab": {}
      },
      "source": [
        "\n",
        "\n",
        "#hàm thực thi\n",
        "if __name__ == \"__main__\":\n",
        "    # STEP 1: Train the KNN classifier and save it to disk\n",
        "    # Once the model is trained and saved, you can skip this step next time.\n",
        "    print(\"Training KNN classifier...\")\n",
        "    classifier = train(\"./Known-people\", model_save_path=\"trained_knn_model.clf\", n_neighbors=2)\n",
        "    print(\"Training complete!\")\n",
        "\n",
        "    # STEP 2: Using the trained classifier, make predictions for unknown images\n",
        "    for image_file in os.listdir(\"Unknown-people\"):\n",
        "        full_file_path = os.path.join(\"Unknown-people\", image_file)\n",
        "\n",
        "        print(\"Looking for faces in {}\".format(image_file))\n",
        "\n",
        "        # Find all people in the image using a trained classifier model\n",
        "        # Note: You can pass in either a classifier file name or a classifier model instance\n",
        "        predictions = predict(full_file_path, model_path=\"trained_knn_model.clf\")\n",
        "\n",
        "        # Print results on the console\n",
        "        for name, (top, right, bottom, left) in predictions:\n",
        "            print(\"- Found {} at ({}, {})\".format(name, left, top))\n",
        "\n",
        "        # Display results overlaid on an image\n",
        "        show_prediction_labels_on_image(os.path.join(\"Unknown-people\", image_file), predictions)\n"
      ],
      "execution_count": 0,
      "outputs": []
    },
    {
      "cell_type": "markdown",
      "metadata": {
        "id": "6_JXsDVNLu7e",
        "colab_type": "text"
      },
      "source": [
        "# **Tài liệu tham khảo**\n",
        "https://github.com/ageitgey/face_recognition"
      ]
    },
    {
      "cell_type": "markdown",
      "metadata": {
        "id": "yCvK1qhoPJVD",
        "colab_type": "text"
      },
      "source": [
        "Nhận xét:\n",
        "\n",
        "*   KNN là thuật toán khá dễ hiểu và áp dụng\n",
        "*   List item\n",
        "*   List item\n",
        "\n"
      ]
    }
  ]
}